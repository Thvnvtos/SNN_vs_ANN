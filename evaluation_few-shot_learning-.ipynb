{
 "cells": [
  {
   "cell_type": "code",
   "execution_count": 2,
   "metadata": {},
   "outputs": [],
   "source": [
    "import numpy as np\n",
    "import pickle, os, torch\n",
    "import matplotlib.pyplot as plt\n",
    "from torchvision import datasets, transforms\n",
    "import models\n",
    "\n",
    "os.environ['KMP_DUPLICATE_LIB_OK']='True'\n",
    "\n"
   ]
  },
  {
   "cell_type": "code",
   "execution_count": 32,
   "metadata": {
    "collapsed": true,
    "jupyter": {
     "outputs_hidden": true
    }
   },
   "outputs": [
    {
     "name": "stdout",
     "output_type": "stream",
     "text": [
      "# Freezing 2 first convs - lr=1e-3 -> 1e-2 - batch_ratio=8 - pre_train_epochs=50 - using dropout - no-reset\n",
      "|     | Labels | Pre-training on [0-6] | 1 shot | 5 shot | 10 shot | 20 shot | 50 shot |\n",
      "| :-: | :----: | :-------------------: | :----: | :----: | :-----: | :-----: | :-----: |\n",
      "| ANN | [0-6]  | 99.75% / 99.64%   |99.50%|99.43%|98.31% |99.26% |99.10% |\n",
      "|     | [7-9]  | -                     |0.00%|0.00%|0.00% |0.00% |0.00% |\n",
      "| SNN | [0-6]  | 99.61% / 99.61%   |99.59%|98.44%|96.19% |96.18% |88.52% |\n",
      "|     | [7-9]  | -                     |0.00%|80.00%|83.33% |91.67% |86.00% |\n"
     ]
    }
   ],
   "source": [
    "Exp = \"F2C_1e3-1e2_b8_e50_d_no-reset\"\n",
    "Exp_desc = \"Freezing 2 first convs - lr=1e-3 -> 1e-2 - batch_ratio=8 - pre_train_epochs=50 - using dropout - no-reset\"\n",
    "\n",
    "\n",
    "path = os.path.join(\"experiments_results\", \"train_fewshot\", Exp)\n",
    "\n",
    "with open(os.path.join(path, \"ann_logs.pickle\"), \"rb\") as f:\n",
    "    ann_logs = pickle.load(f)\n",
    "    \n",
    "with open(os.path.join(path, \"snn_logs.pickle\"), \"rb\") as f:\n",
    "    snn_logs = pickle.load(f)\n",
    "\n",
    "print(\"## {}\".format(Exp_desc))\n",
    "print(\"|     | Labels | Pre-training on [0-6] | 1 shot | 5 shot | 10 shot | 20 shot | 50 shot |\")\n",
    "print(\"| :-: | :----: | :-------------------: | :----: | :----: | :-----: | :-----: | :-----: |\")\n",
    "print(\"| ANN | [0-6]  | {:0.2f}% / {:0.2f}%   |{:0.2f}%|{:0.2f}%|{:0.2f}% |{:0.2f}% |{:0.2f}% |\".format(max(ann_logs[\"pre-train_acc\"]),max(ann_logs[\"pre-test_acc\"]), ann_logs[\"1-shot_pre-test_acc\"][0], ann_logs[\"5-shot_pre-test_acc\"][0], ann_logs[\"10-shot_pre-test_acc\"][0], ann_logs[\"20-shot_pre-test_acc\"][0], ann_logs[\"50-shot_pre-test_acc\"][0]))\n",
    "print(\"|     | [7-9]  | -                     |{:0.2f}%|{:0.2f}%|{:0.2f}% |{:0.2f}% |{:0.2f}% |\".format(ann_logs[\"1-shot_test_acc\"][0], ann_logs[\"5-shot_test_acc\"][0], ann_logs[\"10-shot_test_acc\"][0], ann_logs[\"20-shot_test_acc\"][0], ann_logs[\"50-shot_test_acc\"][0]))\n",
    "print(\"| SNN | [0-6]  | {:0.2f}% / {:0.2f}%   |{:0.2f}%|{:0.2f}%|{:0.2f}% |{:0.2f}% |{:0.2f}% |\".format(max(snn_logs[\"pre-train_acc\"]),max(snn_logs[\"pre-test_acc\"]), snn_logs[\"1-shot_pre-test_acc\"][0], snn_logs[\"5-shot_pre-test_acc\"][0], snn_logs[\"10-shot_pre-test_acc\"][0], snn_logs[\"20-shot_pre-test_acc\"][0], snn_logs[\"50-shot_pre-test_acc\"][0]))\n",
    "print(\"|     | [7-9]  | -                     |{:0.2f}%|{:0.2f}%|{:0.2f}% |{:0.2f}% |{:0.2f}% |\".format(snn_logs[\"1-shot_test_acc\"][0], snn_logs[\"5-shot_test_acc\"][0], snn_logs[\"10-shot_test_acc\"][0], snn_logs[\"20-shot_test_acc\"][0], snn_logs[\"50-shot_test_acc\"][0]))\n"
   ]
  },
  {
   "cell_type": "markdown",
   "metadata": {},
   "source": [
    "## Freezing 2 first convs - lr=1e-3 -> 1e-2 - batch_ratio=8 - pre_train_epochs=50 - using dropout - no-reset\n",
    "|     | Labels | Pre-training on [0-6] | 1 shot | 5 shot | 10 shot | 20 shot | 50 shot |\n",
    "| :-: | :----: | :-------------------: | :----: | :----: | :-----: | :-----: | :-----: |\n",
    "| ANN | [0-6]  | 99.75% / 99.64%   |99.50%|99.43%|98.31% |99.26% |99.10% |\n",
    "|     | [7-9]  | -                     |0.00%|0.00%|0.00% |0.00% |0.00% |\n",
    "| SNN | [0-6]  | 99.61% / 99.61%   |99.59%|98.44%|96.19% |96.18% |88.52% |\n",
    "|     | [7-9]  | -                     |0.00%|80.00%|83.33% |91.67% |86.00% |"
   ]
  },
  {
   "cell_type": "code",
   "execution_count": 33,
   "metadata": {
    "collapsed": true,
    "jupyter": {
     "outputs_hidden": true
    }
   },
   "outputs": [
    {
     "name": "stdout",
     "output_type": "stream",
     "text": [
      "## Freezing 2 first convs - lr=1e-3 -> 1e-2 - batch_ratio=8 - pre_train_epochs=50 - using dropout - reset\n",
      "|     | Labels | Pre-training on [0-6] | 1 shot | 5 shot | 10 shot | 20 shot | 50 shot |\n",
      "| :-: | :----: | :-------------------: | :----: | :----: | :-----: | :-----: | :-----: |\n",
      "| ANN | [0-6]  | 99.75% / 99.64%   |0.29%|0.31%|0.00% |0.00% |0.00% |\n",
      "|     | [7-9]  | -                     |33.33%|86.67%|76.67% |90.00% |96.00% |\n",
      "| SNN | [0-6]  | 99.63% / 99.61%   |10.47%|0.33%|0.00% |0.54% |0.14% |\n",
      "|     | [7-9]  | -                     |0.00%|86.67%|80.00% |98.33% |94.00% |\n"
     ]
    }
   ],
   "source": [
    "Exp = \"F2C_1e3-1e2_b8_e50_d_reset\"\n",
    "Exp_desc = \"Freezing 2 first convs - lr=1e-3 -> 1e-2 - batch_ratio=8 - pre_train_epochs=50 - using dropout - reset\"\n",
    "\n",
    "\n",
    "path = os.path.join(\"experiments_results\", \"train_fewshot\", Exp)\n",
    "\n",
    "with open(os.path.join(path, \"ann_logs.pickle\"), \"rb\") as f:\n",
    "    ann_logs = pickle.load(f)\n",
    "    \n",
    "with open(os.path.join(path, \"snn_logs.pickle\"), \"rb\") as f:\n",
    "    snn_logs = pickle.load(f)\n",
    "\n",
    "print(\"## {}\".format(Exp_desc))\n",
    "print(\"|     | Labels | Pre-training on [0-6] | 1 shot | 5 shot | 10 shot | 20 shot | 50 shot |\")\n",
    "print(\"| :-: | :----: | :-------------------: | :----: | :----: | :-----: | :-----: | :-----: |\")\n",
    "print(\"| ANN | [0-6]  | {:0.2f}% / {:0.2f}%   |{:0.2f}%|{:0.2f}%|{:0.2f}% |{:0.2f}% |{:0.2f}% |\".format(max(ann_logs[\"pre-train_acc\"]),max(ann_logs[\"pre-test_acc\"]), ann_logs[\"1-shot_pre-test_acc\"][0], ann_logs[\"5-shot_pre-test_acc\"][0], ann_logs[\"10-shot_pre-test_acc\"][0], ann_logs[\"20-shot_pre-test_acc\"][0], ann_logs[\"50-shot_pre-test_acc\"][0]))\n",
    "print(\"|     | [7-9]  | -                     |{:0.2f}%|{:0.2f}%|{:0.2f}% |{:0.2f}% |{:0.2f}% |\".format(ann_logs[\"1-shot_test_acc\"][0], ann_logs[\"5-shot_test_acc\"][0], ann_logs[\"10-shot_test_acc\"][0], ann_logs[\"20-shot_test_acc\"][0], ann_logs[\"50-shot_test_acc\"][0]))\n",
    "print(\"| SNN | [0-6]  | {:0.2f}% / {:0.2f}%   |{:0.2f}%|{:0.2f}%|{:0.2f}% |{:0.2f}% |{:0.2f}% |\".format(max(snn_logs[\"pre-train_acc\"]),max(snn_logs[\"pre-test_acc\"]), snn_logs[\"1-shot_pre-test_acc\"][0], snn_logs[\"5-shot_pre-test_acc\"][0], snn_logs[\"10-shot_pre-test_acc\"][0], snn_logs[\"20-shot_pre-test_acc\"][0], snn_logs[\"50-shot_pre-test_acc\"][0]))\n",
    "print(\"|     | [7-9]  | -                     |{:0.2f}%|{:0.2f}%|{:0.2f}% |{:0.2f}% |{:0.2f}% |\".format(snn_logs[\"1-shot_test_acc\"][0], snn_logs[\"5-shot_test_acc\"][0], snn_logs[\"10-shot_test_acc\"][0], snn_logs[\"20-shot_test_acc\"][0], snn_logs[\"50-shot_test_acc\"][0]))\n"
   ]
  },
  {
   "cell_type": "markdown",
   "metadata": {},
   "source": [
    "## Freezing 2 first convs - lr=1e-3 -> 1e-2 - batch_ratio=8 - pre_train_epochs=50 - using dropout - reset\n",
    "|     | Labels | Pre-training on [0-6] | 1 shot | 5 shot | 10 shot | 20 shot | 50 shot |\n",
    "| :-: | :----: | :-------------------: | :----: | :----: | :-----: | :-----: | :-----: |\n",
    "| ANN | [0-6]  | 99.75% / 99.64%   |0.29%|0.31%|0.00% |0.00% |0.00% |\n",
    "|     | [7-9]  | -                     |33.33%|86.67%|76.67% |90.00% |96.00% |\n",
    "| SNN | [0-6]  | 99.63% / 99.61%   |10.47%|0.33%|0.00% |0.54% |0.14% |\n",
    "|     | [7-9]  | -                     |0.00%|86.67%|80.00% |98.33% |94.00% |"
   ]
  },
  {
   "cell_type": "code",
   "execution_count": 3,
   "metadata": {
    "collapsed": true,
    "jupyter": {
     "outputs_hidden": true
    }
   },
   "outputs": [
    {
     "name": "stdout",
     "output_type": "stream",
     "text": [
      "## Freezing 2 first convs - lr=1e-3 -> 1e-2 - batch_ratio=8 - pre_train_epochs=50 - no dropout - reset\n",
      "|     | Labels | Pre-training on [0-6] | 1 shot | 5 shot | 10 shot | 20 shot | 50 shot |\n",
      "| :-: | :----: | :-------------------: | :----: | :----: | :-----: | :-----: | :-----: |\n",
      "| ANN | [0-6]  | 99.97% / 99.60%   |4.19%|0.00%|0.00% |0.00% |0.00% |\n",
      "|     | [7-9]  | -                     |0.00%|33.33%|63.33% |85.00% |84.67% |\n",
      "| SNN | [0-6]  | 99.98% / 99.59%   |1.73%|11.55%|0.03% |2.32% |0.00% |\n",
      "|     | [7-9]  | -                     |100.00%|46.67%|83.33% |95.00% |92.67% |\n"
     ]
    }
   ],
   "source": [
    "Exp = \"F2C_1e3-1e2_b8_e50_nod_reset\"\n",
    "Exp_desc = \"Freezing 2 first convs - lr=1e-3 -> 1e-2 - batch_ratio=8 - pre_train_epochs=50 - no dropout - reset\"\n",
    "\n",
    "\n",
    "path = os.path.join(\"experiments_results\", \"train_fewshot\", Exp)\n",
    "\n",
    "with open(os.path.join(path, \"ann_logs.pickle\"), \"rb\") as f:\n",
    "    ann_logs = pickle.load(f)\n",
    "    \n",
    "with open(os.path.join(path, \"snn_logs.pickle\"), \"rb\") as f:\n",
    "    snn_logs = pickle.load(f)\n",
    "\n",
    "print(\"## {}\".format(Exp_desc))\n",
    "print(\"|     | Labels | Pre-training on [0-6] | 1 shot | 5 shot | 10 shot | 20 shot | 50 shot |\")\n",
    "print(\"| :-: | :----: | :-------------------: | :----: | :----: | :-----: | :-----: | :-----: |\")\n",
    "print(\"| ANN | [0-6]  | {:0.2f}% / {:0.2f}%   |{:0.2f}%|{:0.2f}%|{:0.2f}% |{:0.2f}% |{:0.2f}% |\".format(max(ann_logs[\"pre-train_acc\"]),max(ann_logs[\"pre-test_acc\"]), ann_logs[\"1-shot_pre-test_acc\"][0], ann_logs[\"5-shot_pre-test_acc\"][0], ann_logs[\"10-shot_pre-test_acc\"][0], ann_logs[\"20-shot_pre-test_acc\"][0], ann_logs[\"50-shot_pre-test_acc\"][0]))\n",
    "print(\"|     | [7-9]  | -                     |{:0.2f}%|{:0.2f}%|{:0.2f}% |{:0.2f}% |{:0.2f}% |\".format(ann_logs[\"1-shot_test_acc\"][0], ann_logs[\"5-shot_test_acc\"][0], ann_logs[\"10-shot_test_acc\"][0], ann_logs[\"20-shot_test_acc\"][0], ann_logs[\"50-shot_test_acc\"][0]))\n",
    "print(\"| SNN | [0-6]  | {:0.2f}% / {:0.2f}%   |{:0.2f}%|{:0.2f}%|{:0.2f}% |{:0.2f}% |{:0.2f}% |\".format(max(snn_logs[\"pre-train_acc\"]),max(snn_logs[\"pre-test_acc\"]), snn_logs[\"1-shot_pre-test_acc\"][0], snn_logs[\"5-shot_pre-test_acc\"][0], snn_logs[\"10-shot_pre-test_acc\"][0], snn_logs[\"20-shot_pre-test_acc\"][0], snn_logs[\"50-shot_pre-test_acc\"][0]))\n",
    "print(\"|     | [7-9]  | -                     |{:0.2f}%|{:0.2f}%|{:0.2f}% |{:0.2f}% |{:0.2f}% |\".format(snn_logs[\"1-shot_test_acc\"][0], snn_logs[\"5-shot_test_acc\"][0], snn_logs[\"10-shot_test_acc\"][0], snn_logs[\"20-shot_test_acc\"][0], snn_logs[\"50-shot_test_acc\"][0]))\n"
   ]
  },
  {
   "cell_type": "markdown",
   "metadata": {},
   "source": [
    "## Freezing 2 first convs - lr=1e-3 -> 1e-2 - batch_ratio=8 - pre_train_epochs=50 - no dropout - reset\n",
    "|     | Labels | Pre-training on [0-6] | 1 shot | 5 shot | 10 shot | 20 shot | 50 shot |\n",
    "| :-: | :----: | :-------------------: | :----: | :----: | :-----: | :-----: | :-----: |\n",
    "| ANN | [0-6]  | 99.97% / 99.60%   |4.19%|0.00%|0.00% |0.00% |0.00% |\n",
    "|     | [7-9]  | -                     |0.00%|33.33%|63.33% |85.00% |84.67% |\n",
    "| SNN | [0-6]  | 99.98% / 99.59%   |1.73%|11.55%|0.03% |2.32% |0.00% |\n",
    "|     | [7-9]  | -                     |100.00%|46.67%|83.33% |95.00% |92.67% |"
   ]
  },
  {
   "cell_type": "code",
   "execution_count": null,
   "metadata": {},
   "outputs": [],
   "source": []
  }
 ],
 "metadata": {
  "kernelspec": {
   "display_name": "Python 3",
   "language": "python",
   "name": "python3"
  },
  "language_info": {
   "codemirror_mode": {
    "name": "ipython",
    "version": 3
   },
   "file_extension": ".py",
   "mimetype": "text/x-python",
   "name": "python",
   "nbconvert_exporter": "python",
   "pygments_lexer": "ipython3",
   "version": "3.8.5"
  }
 },
 "nbformat": 4,
 "nbformat_minor": 4
}
